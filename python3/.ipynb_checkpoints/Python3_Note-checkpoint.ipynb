{
 "cells": [
  {
   "cell_type": "markdown",
   "metadata": {},
   "source": [
    "This is my note about Python 3 Quick Guide\n",
    "(https://www.tutorialspoint.com/python3/python_quick_guide.htm)"
   ]
  },
  {
   "cell_type": "markdown",
   "metadata": {},
   "source": [
    "\n",
    "**Me**: python functions can accept default parameters. So many common functions are worth to be explored to meet project needs. When doing projects, it is worth to be patient to read documents carefully."
   ]
  },
  {
   "cell_type": "code",
   "execution_count": 8,
   "metadata": {},
   "outputs": [
    {
     "name": "stdout",
     "output_type": "stream",
     "text": [
      "hello world\n",
      "next line\n",
      "hello world next line\n"
     ]
    }
   ],
   "source": [
    "print(\"hello world\")\n",
    "print(\"next line\")\n",
    "print(\"hello world\", end=' ')\n",
    "print(\"next line\")"
   ]
  },
  {
   "cell_type": "markdown",
   "metadata": {},
   "source": [
    "**Me**: In Python 3, data got from input() is treated as string."
   ]
  },
  {
   "cell_type": "code",
   "execution_count": 7,
   "metadata": {},
   "outputs": [
    {
     "name": "stdout",
     "output_type": "stream",
     "text": [
      "something:10\n"
     ]
    },
    {
     "data": {
      "text/plain": [
       "str"
      ]
     },
     "execution_count": 7,
     "metadata": {},
     "output_type": "execute_result"
    }
   ],
   "source": [
    "x = input(\"something:\")\n",
    "type(x)"
   ]
  },
  {
   "cell_type": "markdown",
   "metadata": {},
   "source": [
    "**Me**: In other language like java and C++, variables type in equations usually keep consistent. In this example. 3/2 == 1 in C and Java. However,python3 adopot type automatically. 3/2 = 1.5 in our case. This is a kind of type inference, I have seen in some other functional programming languages. "
   ]
  },
  {
   "cell_type": "code",
   "execution_count": 6,
   "metadata": {},
   "outputs": [
    {
     "data": {
      "text/plain": [
       "1.5"
      ]
     },
     "execution_count": 6,
     "metadata": {},
     "output_type": "execute_result"
    }
   ],
   "source": [
    "3/2"
   ]
  },
  {
   "cell_type": "markdown",
   "metadata": {},
   "source": [
    "**Guide**: The emphasis in Python 3 had been on the removal of duplicate programming constructsand modules so that \"There should be one -- and preferably only one -- obvious way to do it.<br>\n",
    "**Me**: That Python3 remove many duplicate Python2 modules may be one reason why python3 not supports python2. To solve this program, try use ```2to3 -w traget.py``` to convert codes from python2 to python3 <br>\n",
    "**Me**: the next() for generator shows it. By the way, using ( ) is also a perfect way to creat a generator. Remember, using  [ ] will make a list.<br>\n",
    "**Me**: and from in notation, we can guess the String also has support iterator."
   ]
  },
  {
   "cell_type": "code",
   "execution_count": 10,
   "metadata": {},
   "outputs": [
    {
     "name": "stdout",
     "output_type": "stream",
     "text": [
      "H\n",
      "['H', 'e', 'l', 'l', 'o', ' ', 'W', 'o', 'r', 'l', 'd']\n"
     ]
    }
   ],
   "source": [
    "#next function in python3\n",
    "gen = (letter for letter in 'Hello World') # creates generator object\n",
    "#allowed in Python 2 and Python 3\n",
    "print(next(gen))\n",
    "#allowed in Python 2. raises AttributeError in Python 3\n",
    "#gen.next()\n",
    "# make a list\n",
    "lst = [letter for letter in 'Hello World']\n",
    "print(lst)\n"
   ]
  },
  {
   "cell_type": "markdown",
   "metadata": {},
   "source": [
    "**Guide**:It can be easily integrated with C, C++, COM, ActiveX, CORBA, and Java.<br>\n",
    "**Me**: I don't know this part of knowledge yet. Good to learn it in future."
   ]
  },
  {
   "cell_type": "code",
   "execution_count": 11,
   "metadata": {},
   "outputs": [
    {
     "data": {
      "text/plain": [
       "6"
      ]
     },
     "execution_count": 11,
     "metadata": {},
     "output_type": "execute_result"
    }
   ],
   "source": [
    "#Multi-Line Statements\n",
    "'''\n",
    "Not use it very often. It should be useful when expressions are realy long. \n",
    "'''\n",
    "1 + \\\n",
    "2 + \\\n",
    "3"
   ]
  },
  {
   "cell_type": "markdown",
   "metadata": {},
   "source": [
    "**Me**: python3 does not support multiple-line commenting feature. People usually use the triple quotes as alternative. But remember, the interpreter does not igonore triple quotes. It uses resources. So still, it is better to use # only."
   ]
  },
  {
   "cell_type": "code",
   "execution_count": 12,
   "metadata": {},
   "outputs": [],
   "source": [
    "#Quotation in Python\n",
    "word = 'word'\n",
    "sentence = \"This is a sentence.\"\n",
    "paragraph = \"\"\"This is a paragraph. It is\n",
    "made up of multiple lines and sentences.\"\"\"\n",
    "\n",
    "#Comments in Python\n",
    "# This is a comment.\n",
    "# This is a comment, too."
   ]
  },
  {
   "cell_type": "code",
   "execution_count": 15,
   "metadata": {},
   "outputs": [
    {
     "name": "stdout",
     "output_type": "stream",
     "text": [
      "\n",
      "\n",
      "Press the enter key to exit.\n"
     ]
    },
    {
     "data": {
      "text/plain": [
       "''"
      ]
     },
     "execution_count": 15,
     "metadata": {},
     "output_type": "execute_result"
    }
   ],
   "source": [
    "#Waiting for the User\n",
    "input(\"\\n\\nPress the enter key to exit.\")"
   ]
  },
  {
   "cell_type": "markdown",
   "metadata": {},
   "source": [
    "***Me***: Personally, I don't like Multiple Statements on a Single Line. It makes codes hard to be read."
   ]
  },
  {
   "cell_type": "code",
   "execution_count": 17,
   "metadata": {},
   "outputs": [
    {
     "name": "stdout",
     "output_type": "stream",
     "text": [
      "foo\n"
     ]
    }
   ],
   "source": [
    "#Multiple Statements on a Single Line\n",
    "import sys; x = 'foo'; sys.stdout.write(x + '\\n')"
   ]
  },
  {
   "cell_type": "markdown",
   "metadata": {},
   "source": [
    "### Python 3 - Variable Types"
   ]
  },
  {
   "cell_type": "markdown",
   "metadata": {},
   "source": [
    "**Guide**: Variables are nothing but reserved memory locations to store values. It means that when you create a variable, you reserve some space in the memory.<br>\n",
    "**Me**: This is the best explanation on variable I have ever seen. \n"
   ]
  },
  {
   "cell_type": "code",
   "execution_count": 18,
   "metadata": {},
   "outputs": [
    {
     "name": "stdout",
     "output_type": "stream",
     "text": [
      "1 1 1\n",
      "1 2 john\n"
     ]
    }
   ],
   "source": [
    "#Multiple Assignment\n",
    "a = b = c = 1\n",
    "print(a ,b, c)\n",
    "a, b, c = 1, 2, \"john\"\n",
    "print(a ,b, c)"
   ]
  },
  {
   "cell_type": "code",
   "execution_count": 27,
   "metadata": {},
   "outputs": [
    {
     "data": {
      "text/plain": [
       "(8+21j)"
      ]
     },
     "execution_count": 27,
     "metadata": {},
     "output_type": "execute_result"
    }
   ],
   "source": [
    "# Complex number\n",
    "(10 + 1j) + (1 + 2j)\n",
    "(10 + 1j) * (1 + 2j)"
   ]
  },
  {
   "cell_type": "code",
   "execution_count": 19,
   "metadata": {},
   "outputs": [
    {
     "name": "stdout",
     "output_type": "stream",
     "text": [
      "Hello World!\n",
      "H\n",
      "llo\n",
      "llo World!\n",
      "Hello World!Hello World!\n",
      "Hello World!TEST\n"
     ]
    }
   ],
   "source": [
    "# String\n",
    "'''\n",
    "It is easy to see + and * has been overloaded. This makes me think about C++'s operators \n",
    "overloading. Python3 and Java provide same support to do it. See the next example.\n",
    "'''\n",
    "\n",
    "str = 'Hello World!'\n",
    "\n",
    "print (str)          # Prints complete string\n",
    "print (str[0])       # Prints first character of the string\n",
    "print (str[2:5])     # Prints characters starting from 3rd to 5th\n",
    "print (str[2:])      # Prints string starting from 3rd character\n",
    "print (str * 2)      # Prints string two times\n",
    "print (str + \"TEST\") # Prints concatenated string"
   ]
  },
  {
   "cell_type": "code",
   "execution_count": 38,
   "metadata": {},
   "outputs": [
    {
     "name": "stdout",
     "output_type": "stream",
     "text": [
      "Overloading binary + operator in Python\n",
      "\n",
      "First example:\n",
      "3\n",
      "GeeksFor\n",
      "\n",
      "Second example:\n",
      "(3, 5)\n",
      "***************\n"
     ]
    }
   ],
   "source": [
    "# https://www.geeksforgeeks.org/operator-overloading-in-python/\n",
    "# Python Program illustrate how  \n",
    "# to overload an binary + operator \n",
    "\n",
    "# Me: More example please see link above. There are many types of operator overloading magic \n",
    "# functions. From both the examples and my experience, we can see this language feature is usually\n",
    "# used when we want support operators for our new defined types.\n",
    "\n",
    "# Overloading binary + operator in Python :\n",
    "print('Overloading binary + operator in Python\\n')\n",
    "## First example\n",
    "print('First example:')\n",
    "class A: \n",
    "    def __init__(self, a): \n",
    "        self.a = a \n",
    "  \n",
    "    # adding two objects  \n",
    "    def __add__(self, o): \n",
    "        return self.a + o.a  \n",
    "ob1 = A(1) \n",
    "ob2 = A(2) \n",
    "ob3 = A(\"Geeks\") \n",
    "ob4 = A(\"For\") \n",
    "  \n",
    "print(ob1 + ob2) \n",
    "print(ob3 + ob4) \n",
    "\n",
    "## Second example\n",
    "print('\\nSecond example:')\n",
    "class complex: \n",
    "    def __init__(self, a, b): \n",
    "        self.a = a \n",
    "        self.b = b \n",
    "  \n",
    "     # adding two objects  \n",
    "    def __add__(self, other): \n",
    "        return self.a + other.a, self.b + other.b \n",
    "  \n",
    "    def __str__(self): \n",
    "        return self.a, self.b \n",
    "  \n",
    "Ob1 = complex(1, 2) \n",
    "Ob2 = complex(2, 3) \n",
    "Ob3 = Ob1 + Ob2 \n",
    "print(Ob3)\n",
    "print(\"***************\")\n",
    "\n"
   ]
  },
  {
   "cell_type": "code",
   "execution_count": 4,
   "metadata": {},
   "outputs": [
    {
     "name": "stdout",
     "output_type": "stream",
     "text": [
      "['abcd', 786, 2.23, 'john', 70.2]\n",
      "abcd\n",
      "[786, 2.23]\n",
      "[2.23, 'john', 70.2]\n",
      "[123, 'john', 123, 'john']\n",
      "['abcd', 786, 2.23, 'john', 70.2, 123, 'john']\n"
     ]
    }
   ],
   "source": [
    "# Python Lists\n",
    "\n",
    "# Me: list is a python3 data structor. So it is better to not use list as variable name.\n",
    "# Still Python3 list type is very easy to use. looks the operator overloading, it is very \n",
    "# intuitive\n",
    "\n",
    "list_ = [ 'abcd', 786 , 2.23, 'john', 70.2 ]\n",
    "tinylist = [123, 'john']\n",
    "\n",
    "print (list_)          # Prints complete list\n",
    "print (list_[0])       # Prints first element of the list\n",
    "print (list_[1:3])     # Prints elements starting from 2nd till 3rd \n",
    "print (list_[2:])      # Prints elements starting from 3rd element\n",
    "print (tinylist * 2)  # Prints list two times\n",
    "print (list_ + tinylist) # Prints concatenated lists"
   ]
  },
  {
   "cell_type": "code",
   "execution_count": 33,
   "metadata": {
    "scrolled": true
   },
   "outputs": [
    {
     "name": "stdout",
     "output_type": "stream",
     "text": [
      "Using Lists as Stacks\n",
      "[3, 4, 5, 6, 7]\n",
      "7\n",
      "\n",
      "Using Lists as Queues\n",
      "Eric\n",
      "John\n",
      "\n",
      "List Comprehensions\n",
      "[0, 1, 4, 9, 16, 25, 36, 49, 64, 81]\n",
      "[0, 1, 4, 9, 16, 25, 36, 49, 64, 81]\n",
      "[(1, 3), (1, 4), (2, 3), (2, 1), (2, 4), (3, 1), (3, 4)]\n",
      "transpose a matrix\n",
      "[[1, 5, 9], [2, 6, 10], [3, 7, 11], [4, 8, 12]]\n",
      "[(1, 4), (2, 5), (3, 6)]\n"
     ]
    }
   ],
   "source": [
    "# Python list data structor.\n",
    "# https://docs.python.org/3/tutorial/datastructures.html\n",
    "print(\"Using Lists as Stacks\")\n",
    "\n",
    "# Guide: While appends and pops from the end of list are fast, doing inserts or pops from \n",
    "# the beginning of a list is slow\n",
    "# Me: So as said above, list is nice to be used as stack. However, list support way more \n",
    "# functons than stack. This is bad since it allows users to do unwanted operations.So it \n",
    "# is better to make our own stack based on list. \n",
    "# Here is an example:\n",
    "# https://www.tutorialspoint.com/python/python_stack.htm\n",
    "# (noticed: code in this link not supports duplicated values in stack!)\n",
    "stack = [3, 4, 5]\n",
    "stack.append(6)\n",
    "stack.append(7)\n",
    "print(stack)\n",
    "[3, 4, 5, 6, 7]\n",
    "print(stack.pop())\n",
    "\n",
    "print(\"\\nUsing Lists as Queues\")\n",
    "#https://docs.python.org/3/tutorial/datastructures.html#using-lists-as-queues\n",
    "\n",
    "# Me: As said in link, using list to make queue is slow. So here they use deque.\n",
    "# we can see the list is very like C++'s vector and java's ArrayList. \n",
    "\n",
    "from collections import deque\n",
    "queue = deque([\"Eric\", \"John\", \"Michael\"])\n",
    "queue.append(\"Terry\")           # Terry arrives\n",
    "queue.append(\"Graham\")          # Graham arrives\n",
    "print(queue.popleft())                 # The first to arrive now leaves\n",
    "print(queue.popleft())                 # The second to arrive now leaves\n",
    "queue                          # Remaining queue in order of arrival\n",
    "\n",
    "print(\"\\nList Comprehensions\")\n",
    "# Me: \n",
    "#    This is interesing. It is very functional programming. Here we use map and lambda anonymous\n",
    "# function to build a list.\n",
    "#    The second is more concise than the first one. very Pythonic! One thing I find. type([1,2,3])\n",
    "# return list. It means most of time ,we use list but not array. This experience is very differnt from\n",
    "# other languages like C, C++ and Java at where we use array so much.\n",
    "#    Python3 also support Array. See next example. \n",
    "\n",
    "squares = list(map(lambda x: x**2, range(10)))\n",
    "print(squares)\n",
    "squares = [x**2 for x in range(10)]\n",
    "print(squares)\n",
    "print([(x, y) for x in [1,2,3] for y in [3,1,4] if x != y])\n",
    "\n",
    "print('transpose a matrix')\n",
    "matrix = [\n",
    "        [1, 2, 3, 4],\n",
    "        [5, 6, 7, 8],\n",
    "        [9, 10, 11, 12],\n",
    "]\n",
    "print([[row[i] for row in matrix] for i in range(4)])\n",
    "# zip is better example above.\n",
    "list(zip(*matrix))\n",
    "x = [1, 2, 3]\n",
    "y = [4, 5, 6]\n",
    "zipped = zip(x, y)\n",
    "print(list(zipped))"
   ]
  },
  {
   "cell_type": "code",
   "execution_count": 45,
   "metadata": {},
   "outputs": [
    {
     "name": "stdout",
     "output_type": "stream",
     "text": [
      "array('l', [1, 2, 3, 4, 5])\n",
      "array('l', [11, 2, 3, 4, 5])\n"
     ]
    }
   ],
   "source": [
    "# Python Array\n",
    "#https://docs.python.org/3/library/array.html\n",
    "\n",
    "# Guide: Arrays are sequence types and behave very much like lists, except that the type of objects \n",
    "# stored in them is constrained.\n",
    "\n",
    "from array import array\n",
    "a1 = array('l')\n",
    "a2 = array('u', 'hello \\u2641')\n",
    "a3 = array('l', [1, 2, 3, 4, 5])\n",
    "a4 = array('d', [1.0, 2.0, 3.14])\n",
    "print(a3)\n",
    "a3[0] = 11\n",
    "print(a3)"
   ]
  },
  {
   "cell_type": "code",
   "execution_count": 5,
   "metadata": {},
   "outputs": [
    {
     "name": "stdout",
     "output_type": "stream",
     "text": [
      "{'sape': 4139, 'guido': 4127, 'jack': 4098}\n",
      "This is one\n",
      "This is two\n",
      "{'name': 'john', 'code': 6734, 'dept': 'sales'}\n",
      "dict_keys(['name', 'code', 'dept'])\n",
      "dict_values(['john', 6734, 'sales'])\n",
      "\n",
      "gallahad the pure\n",
      "robin the brave\n"
     ]
    }
   ],
   "source": [
    "# Python Dictionary\n",
    "# See detail from:\n",
    "#https://docs.python.org/3/tutorial/datastructures.html#dictionaries\n",
    "\n",
    "\n",
    "# Guide: It is best to think of a dictionary as a set of key: value pairs, with the requirement \n",
    "# that the keys are unique (within one dictionary). \n",
    "# The items in dictionary are tuple\n",
    "\n",
    "dict_1 = {}\n",
    "dict_1['one'] = \"This is one\"\n",
    "dict_1[2]     = \"This is two\"\n",
    "\n",
    "tinydict = {'name': 'john','code':6734, 'dept': 'sales'}\n",
    "print(dict([('sape', 4139), ('guido', 4127), ('jack', 4098)]))\n",
    "print (dict_1['one'])       # Prints value for 'one' key\n",
    "print (dict_1[2])           # Prints value for 2 key\n",
    "print (tinydict)          # Prints complete dictionary\n",
    "print (tinydict.keys())   # Prints all the keys\n",
    "print (tinydict.values()) # Prints all the values\n",
    "\n",
    "#Looping technique\n",
    "print()\n",
    "knights = {'gallahad': 'the pure', 'robin': 'the brave'}\n",
    "for k, v in knights.items():\n",
    "    print(k, v)"
   ]
  },
  {
   "cell_type": "code",
   "execution_count": 13,
   "metadata": {},
   "outputs": [
    {
     "name": "stdout",
     "output_type": "stream",
     "text": [
      "2\n",
      "True\n",
      "True\n"
     ]
    }
   ],
   "source": [
    "# Some interesing build in functions\n",
    "## eval\n",
    "x = 1\n",
    "print(eval('x+1'))\n",
    "## ord, get character's unicode\n",
    "ord('a')\n",
    "\n",
    "## any\n",
    "names = ['King', 'Queen', 'Joker']\n",
    "print(any(n in 'King and john' for n in names))\n",
    "\n",
    "## all\n",
    "val = [2, 3 ,4, 5]\n",
    "print(all(n < 10 for n in val))"
   ]
  },
  {
   "cell_type": "code",
   "execution_count": 18,
   "metadata": {},
   "outputs": [
    {
     "name": "stdout",
     "output_type": "stream",
     "text": [
      "True\n",
      "True\n"
     ]
    }
   ],
   "source": [
    "# Python Arithmetic Operators\n",
    "'''\n",
    "// is the Floor Division. This \n",
    "'''\n",
    "print(9//2 == 4)\n",
    "print(9.0//2.0 == 4.0)"
   ]
  },
  {
   "cell_type": "code",
   "execution_count": 26,
   "metadata": {},
   "outputs": [
    {
     "name": "stdout",
     "output_type": "stream",
     "text": [
      "True\n",
      "True\n"
     ]
    }
   ],
   "source": [
    "# Membership Operators Example\n",
    "\n",
    "# The membership operators is good for searching things in collections.\n",
    "\n",
    "tinydict = {'name': 'john','code':6734, 'dept': 'sales'}\n",
    "print('name' in tinydict)\n",
    "print('Dept' not in tinydict)"
   ]
  },
  {
   "cell_type": "code",
   "execution_count": 40,
   "metadata": {},
   "outputs": [
    {
     "name": "stdout",
     "output_type": "stream",
     "text": [
      "Current Letter : P\n",
      "Current Letter : y\n",
      "Current Letter : t\n",
      "This is pass block\n",
      "Current Letter : h\n",
      "Current Letter : o\n",
      "Current Letter : n\n",
      "Good bye!\n"
     ]
    }
   ],
   "source": [
    "# Loop Control Statements\n",
    "## pass Statement\n",
    "\n",
    "# https://docs.python.org/3/tutorial/controlflow.html#pass-statements\n",
    "# The pass statement does nothing. It can be used when a statement is \n",
    "# required syntactically but the program requires no action.\n",
    "\n",
    "for letter in 'Python': \n",
    "    if letter == 'h':\n",
    "        pass\n",
    "        print ('This is pass block')\n",
    "    print ('Current Letter :', letter)\n",
    "\n",
    "print (\"Good bye!\")\n"
   ]
  },
  {
   "cell_type": "code",
   "execution_count": 20,
   "metadata": {},
   "outputs": [
    {
     "name": "stdout",
     "output_type": "stream",
     "text": [
      "1\n",
      "2 3 4 "
     ]
    },
    {
     "ename": "SystemExit",
     "evalue": "",
     "output_type": "error",
     "traceback": [
      "An exception has occurred, use %tb to see the full traceback.\n",
      "\u001b[0;31mSystemExit\u001b[0m\n"
     ]
    },
    {
     "name": "stderr",
     "output_type": "stream",
     "text": [
      "/Library/Frameworks/Python.framework/Versions/3.7/lib/python3.7/site-packages/IPython/core/interactiveshell.py:3275: UserWarning: To exit: use 'exit', 'quit', or Ctrl-D.\n",
      "  warn(\"To exit: use 'exit', 'quit', or Ctrl-D.\", stacklevel=1)\n"
     ]
    }
   ],
   "source": [
    "import sys\n",
    "# Iterator\n",
    "list_ = [1,2,3,4]\n",
    "it = iter(list_) # this builds an iterator object\n",
    "print (next(it)) #prints next available element in iterator\n",
    "#Iterator object can be traversed using regular for statement\n",
    "for x in it:\n",
    "    # Good output format \n",
    "    print (x, end=\" \")\n",
    "#or using next() function\n",
    "while True:\n",
    "    try:\n",
    "        print (next(it))\n",
    "    except StopIteration:\n",
    "        sys.exit() #you have to import sys module for this"
   ]
  },
  {
   "cell_type": "code",
   "execution_count": 21,
   "metadata": {},
   "outputs": [
    {
     "name": "stdout",
     "output_type": "stream",
     "text": [
      "0 1 1 2 3 5 "
     ]
    },
    {
     "ename": "SystemExit",
     "evalue": "",
     "output_type": "error",
     "traceback": [
      "An exception has occurred, use %tb to see the full traceback.\n",
      "\u001b[0;31mSystemExit\u001b[0m\n"
     ]
    }
   ],
   "source": [
    "#Generator\n",
    "#A generator is a function that produces or yields a sequence of values using yield method.\n",
    "#!usr/bin/python3\n",
    "\n",
    "\n",
    "#Me: call next to get yield value. The yield likes the return but it keeps the status \n",
    "# of the function.\n",
    "\n",
    "import sys\n",
    "def fibonacci(n): #generator function\n",
    "    a, b, counter = 0, 1, 0\n",
    "    while True:\n",
    "        if (counter > n): \n",
    "            return\n",
    "        yield a\n",
    "        a, b = b, a + b\n",
    "        counter += 1\n",
    "f = fibonacci(5) #f is iterator object\n",
    "\n",
    "while True:\n",
    "    try:\n",
    "        print (next(f), end=\" \")\n",
    "    except StopIteration:\n",
    "        sys.exit()"
   ]
  },
  {
   "cell_type": "code",
   "execution_count": 63,
   "metadata": {},
   "outputs": [
    {
     "name": "stdout",
     "output_type": "stream",
     "text": [
      "-1\n",
      "1.0\n",
      "2.0\n",
      "round(70.23456) :  70\n",
      "round(80.264, 2) :  80.26\n"
     ]
    }
   ],
   "source": [
    "#Mathematical Functions\n",
    "abs(-1)\n",
    "#cmp(x, y). Deprecated in Python 3. Instead use return (x>y)-(x<y).\n",
    "# Me: Boolean type support arithmetics operations\n",
    "def cmp(x, y):\n",
    "    return (x>y)-(x<y)\n",
    "print(cmp(0,1))\n",
    "\n",
    "import math\n",
    "import numpy as np\n",
    "print(math.log10(10))\n",
    "print(math.log(np.e ** 2))\n",
    "print (\"round(70.23456) : \", round(70.23456))\n",
    "print (\"round(80.264, 2) : \", round(80.264, 2))"
   ]
  },
  {
   "cell_type": "code",
   "execution_count": 82,
   "metadata": {},
   "outputs": [
    {
     "name": "stdout",
     "output_type": "stream",
     "text": [
      "returns a random number from range(100) :  21\n",
      "returns random element from list [1, 2, 3, 5, 9]) :  1\n",
      "returns random character from string 'Hello World' :  o\n",
      "randrange(1,100, 2) :  25\n",
      "randrange(100) :  68\n",
      "random number with default seed 0.029461351347509934\n",
      "random number with int seed 0.5714025946899135\n",
      "random number with string seed 0.3537754404730722\n",
      "Reshuffled list :  [10, 16, 5, 20]\n",
      "Reshuffled list :  [20, 16, 5, 10]\n",
      "Random Float uniform(5, 10) :  8.32548129941273\n",
      "Random Float uniform(7, 14) :  11.50216637642797\n"
     ]
    }
   ],
   "source": [
    "# Random Number Functions\n",
    "'''\n",
    "The choice() method returns a random item from a list, tuple, or string\n",
    "'''\n",
    "#!/usr/bin/python3\n",
    "import random\n",
    "\n",
    "print (\"returns a random number from range(100) : \",random.choice(range(100)))\n",
    "print (\"returns random element from list [1, 2, 3, 5, 9]) : \", random.choice([1, 2, 3, 5, 9]))\n",
    "print (\"returns random character from string 'Hello World' : \", random.choice('Hello World'))\n",
    "\n",
    "# randomly select an odd number between 1-100 \n",
    "print (\"randrange(1,100, 2) : \", random.randrange(1, 100, 2))\n",
    "# randomly select a number between 0-99 \n",
    "print (\"randrange(100) : \", random.randrange(100))\n",
    "\n",
    "random.seed()\n",
    "print (\"random number with default seed\", random.random())\n",
    "\n",
    "random.seed(10)\n",
    "print (\"random number with int seed\", random.random())\n",
    "\n",
    "# the string hello should be hash than used as seed\n",
    "random.seed(\"hello\",2)\n",
    "print (\"random number with string seed\", random.random())\n",
    "\n",
    "'''\n",
    "Me: Notice the shuffle function manipulate list in place.\n",
    "'''\n",
    "list = [20, 16, 10, 5];\n",
    "random.shuffle(list)\n",
    "print (\"Reshuffled list : \",  list)\n",
    "random.shuffle(list)\n",
    "print (\"Reshuffled list : \",  list)\n",
    "\n",
    "'''\n",
    "If you want to get random number in given range. Use it.\n",
    "'''\n",
    "print (\"Random Float uniform(5, 10) : \",  random.uniform(5, 10))\n",
    "print (\"Random Float uniform(7, 14) : \",  random.uniform(7, 14))"
   ]
  },
  {
   "cell_type": "code",
   "execution_count": 99,
   "metadata": {},
   "outputs": [
    {
     "name": "stdout",
     "output_type": "stream",
     "text": [
      "acos(0.64) :  0.8762980611683406\n",
      "acos(0) :  1.5707963267948966\n",
      "acos(-1) :  3.141592653589793\n",
      "acos(1) :  0.0\n",
      "asin(0.64) :  0.694498265626556\n",
      "asin(0) :  0.0\n",
      "asin(-1) :  -1.5707963267948966\n",
      "asin(1) :  1.5707963267948966\n",
      "atan(0.64) :  0.5693131911006619\n",
      "atan(0) :  0.0\n",
      "atan(10) :  1.4711276743037345\n",
      "atan(-1) :  -0.7853981633974483\n",
      "atan(1) :  0.7853981633974483\n",
      "hypot(3, 2) :  3.605551275463989\n",
      "hypot(-3, 3) :  4.242640687119285\n",
      "hypot(0, 2) :  2.0\n",
      "180.0\n",
      "1.0\n",
      "radians(180) :  3.141592653589793\n"
     ]
    }
   ],
   "source": [
    "# Trigonometric Functions\n",
    "'''\n",
    "The function return radian form. \n",
    "'''\n",
    "\n",
    "import math\n",
    "\n",
    "print (\"acos(0.64) : \",  math.acos(0.64))\n",
    "print (\"acos(0) : \",  math.acos(0))\n",
    "print (\"acos(-1) : \",  math.acos(-1))\n",
    "print (\"acos(1) : \",  math.acos(1))\n",
    "print (\"asin(0.64) : \",  math.asin(0.64))\n",
    "print (\"asin(0) : \",  math.asin(0))\n",
    "print (\"asin(-1) : \",  math.asin(-1))\n",
    "print (\"asin(1) : \",  math.asin(1))\n",
    "print (\"atan(0.64) : \",  math.atan(0.64))\n",
    "print (\"atan(0) : \",  math.atan(0))\n",
    "print (\"atan(10) : \",  math.atan(10))\n",
    "print (\"atan(-1) : \",  math.atan(-1))\n",
    "print (\"atan(1) : \",  math.atan(1))\n",
    "# hypot return the Euclidean norm of point from the origin\n",
    "print (\"hypot(3, 2) : \",  math.hypot(3, 2))\n",
    "print (\"hypot(-3, 3) : \",  math.hypot(-3, 3))\n",
    "print (\"hypot(0, 2) : \",  math.hypot(0, 2))\n",
    "\n",
    "# degrees convert anlge from radians to degree.\n",
    "print(math.degrees(math.pi))\n",
    "print(math.log(math.e))\n",
    "print (\"radians(180) : \",  math.radians(180))"
   ]
  },
  {
   "cell_type": "code",
   "execution_count": 133,
   "metadata": {},
   "outputs": [
    {
     "name": "stdout",
     "output_type": "stream",
     "text": [
      "Updated String :-  Hello Python\n",
      "My name is Zara and weight is 21 kg!\n",
      "C:\\nowhere\n",
      "C:\\\\nowhere\n",
      "str.capitalize() :  This is string example....wow!!!\n",
      "str.center(40, 'a') :  aaaathis is string example....wow!!!aaaa\n",
      "str.count('i') :  3\n",
      "str.count('exam', 10, 40) :  1\n",
      "b'this is string example....wow!!!'\n",
      "Decoded String: this is string example....wow!!!\n",
      "True\n",
      "True\n",
      "False\n",
      "True\n",
      "Original string: this is\tstring example....wow!!!\n",
      "Defualt exapanded tab: this is string example....wow!!!\n",
      "Double exapanded tab: this is         string example....wow!!!\n",
      "15\n",
      "15\n",
      "-1\n",
      "True\n",
      "False\n",
      "a-b-c\n",
      "f-g-h\n",
      "this is string example....wow!!!\n",
      "this is string example....wow!!!*****\n",
      "th3s 3s str3ng 2x1mpl2....w4w!!!\n",
      "thwas was string example....wow!!! thwas was really string\n",
      "thwas was string example....wow!!! thwas is really string\n",
      "['this', 'is', 'string', 'example....wow!!!']\n",
      "['th', 's is string example....wow!!!']\n",
      "['this is string example....', 'o', '!!!']\n",
      "['this is ', 'string example....', 'wow!!!']\n",
      "this is string example....wow!!!\n"
     ]
    }
   ],
   "source": [
    "# String\n",
    "var1 = 'Hello World!'\n",
    "print (\"Updated String :- \", var1[:6] + 'Python')\n",
    "\n",
    "'''same as most other language, string is not mutable'''\n",
    "#var1[1] = 'a'\n",
    "\n",
    "## String format\n",
    "'''\n",
    "Me: although python3 is dynamic types language. In string format, you still need to specify\n",
    "types.\n",
    "'''\n",
    "print (\"My name is %s and weight is %d kg!\" % ('Zara', 21)) \n",
    "\n",
    "'''\n",
    "Me: if you want to print the string including special characters, you can use raw string.\n",
    "'''\n",
    "print ('C:\\\\nowhere')\n",
    "print (r'C:\\\\nowhere')\n",
    "\n",
    "## String methods\n",
    "'''\n",
    "Me: From code below, we can see str should be a class.\n",
    "'''\n",
    "str = \"this is string example....wow!!!\"\n",
    "print (\"str.capitalize() : \", str.capitalize())\n",
    "\n",
    "'''\n",
    "Me if the width is shorter than the original str, return original str.\n",
    "'''\n",
    "str = \"this is string example....wow!!!\"\n",
    "print (\"str.center(40, 'a') : \", str.center(40, 'a'))\n",
    "\n",
    "str = \"this is string example....wow!!!\"\n",
    "sub = 'i'\n",
    "print (\"str.count('i') : \", str.count(sub))\n",
    "sub = 'exam'\n",
    "print (\"str.count('exam', 10, 40) : \", str.count(sub,10,40))\n",
    "\n",
    "# Encoding and decoding\n",
    "Str = \"this is string example....wow!!!\"\n",
    "Str = Str.encode('big5','strict')\n",
    "print(Str)\n",
    "#print(\"Encoded String: \" + Str)\n",
    "print(\"Decoded String: \" + Str.decode('ascii','strict'))\n",
    "Str = 'this is string example....wow!!!'\n",
    "suffix = '!!'\n",
    "print (Str.endswith(suffix))\n",
    "print (Str.endswith(suffix,20))\n",
    "suffix = 'exam'\n",
    "print (Str.endswith(suffix))\n",
    "print (Str.endswith(suffix, 0, 19))\n",
    "\n",
    "'''\n",
    "Me: expandtabs() should be useful if you want to make the tab identical \n",
    "across differnt platforms.\n",
    "'''\n",
    "str = \"this is\\tstring example....wow!!!\"\n",
    "print (\"Original string: \" + str)\n",
    "print (\"Defualt exapanded tab: \" +  str.expandtabs())\n",
    "print (\"Double exapanded tab: \" +  str.expandtabs(16))\n",
    "\n",
    "'''\n",
    "Me: Good to use for fidning the sub string\n",
    "'''\n",
    "str1 = \"this is string example....wow!!!\"\n",
    "str2 = \"exam\";\n",
    "print (str1.find(str2))\n",
    "print (str1.find(str2, 10))\n",
    "print (str1.find(str2, 40))\n",
    "\n",
    "'''\n",
    "Me: This is interesing. From here I know the what the title means.\n",
    "'''\n",
    "str = \"This Is String Example...Wow!!!\"\n",
    "print (str.istitle())\n",
    "str = \"This is string example....wow!!!\"\n",
    "print (str.istitle())\n",
    "\n",
    "'''\n",
    "This join function could be very useful when you want concat multiple strings together. \n",
    "'''\n",
    "s = \"-\"\n",
    "seq = (\"a\", \"b\", \"c\") # This is sequence of strings.\n",
    "seq2 = [\"f\", \"g\", \"h\"]\n",
    "print (s.join( seq ))\n",
    "print (s.join( seq2 ))\n",
    "\n",
    "'''\n",
    "lstrip()\n",
    "Removes all leading whitespace in string.\n",
    "could be useful when you want to clean the text data.\n",
    "'''\n",
    "str = \"     this is string example....wow!!!\"\n",
    "print (str.lstrip())\n",
    "str = \"*****this is string example....wow!!!*****\"\n",
    "print (str.lstrip('*'))\n",
    "\n",
    "'''\n",
    "This is a simple way to encrypt data.\n",
    "'''\n",
    "intab = \"aeiou\"\n",
    "outtab = \"12345\"\n",
    "trantab = str.maketrans(intab, outtab)\n",
    "\n",
    "str = \"this is string example....wow!!!\"\n",
    "print (str.translate(trantab))\n",
    "\n",
    "'''\n",
    "Me: Replace() is a very useful function. Actually, I find most of times I haven't use all \n",
    "these useful functions. Same of those function i wrote by myself. But still, I think using \n",
    "functions from offical libary is better than creating the new one. Since it can make code\n",
    "concise and also more likely bug free. So in future, when developing projects. You need to \n",
    "read document patiently. By the way, It is still worth to consider the complexity of methods.\n",
    "This is very important.\n",
    "'''\n",
    "str = \"this is string example....wow!!! this is really string\"\n",
    "print (str.replace(\"is\", \"was\"))\n",
    "print (str.replace(\"is\", \"was\", 3))\n",
    "\n",
    "'''\n",
    "Me: Split() and splitlines() is also a very import methods which can be used almost in all nlp projects.\n",
    "'''\n",
    "str = \"this is string example....wow!!!\"\n",
    "print (str.split( ))\n",
    "print (str.split('i',1))\n",
    "print (str.split('w'))\n",
    "str = \"this is \\nstring example....\\nwow!!!\"\n",
    "print (str.splitlines( ))\n",
    "\n",
    "# default is a whitspace.\n",
    "str = \"*****this is string example....wow!!!*****\"\n",
    "print (str.strip( '*' ))"
   ]
  },
  {
   "cell_type": "markdown",
   "metadata": {},
   "source": [
    "## Python 3 - Lists"
   ]
  },
  {
   "cell_type": "code",
   "execution_count": 136,
   "metadata": {},
   "outputs": [
    {
     "name": "stdout",
     "output_type": "stream",
     "text": [
      "list2[1:5]:  [2, 3, 4, 5]\n",
      "['physics', 'chemistry', 1997, 2000]\n",
      "After deleting value at index 2 :  ['physics', 'chemistry', 2000]\n",
      "[1, 2, 3, 4, 5, 6]\n",
      "['Hi!', 'Hi!', 'Hi!', 'Hi!']\n"
     ]
    }
   ],
   "source": [
    "'''\n",
    "Me: In other language return a given range of values from a list usually using a function. \n",
    "Python3 uses a more concise and intuitive way to do it. This is nice. \n",
    "Actually, most functions I have read before. But most of times, I use numpy. So it is \n",
    "worth to review it. \n",
    "'''\n",
    "list2 = [1, 2, 3, 4, 5, 6, 7 ]\n",
    "print (\"list2[1:5]: \", list2[1:5])\n",
    "\n",
    "list = ['physics', 'chemistry', 1997, 2000]\n",
    "print (list)\n",
    "del list[2]\n",
    "print (\"After deleting value at index 2 : \", list)\n",
    "\n",
    "'''\n",
    "Python3 overload most of operators. So it is interesting to test it when learning other \n",
    "class in python3 in futuer. And it is also worth to consider if it is necessary to overload\n",
    "operators in our own class. \n",
    "'''\n",
    "print([1, 2, 3] + [4, 5, 6]) \n",
    "print(['Hi!'] * 4)"
   ]
  },
  {
   "cell_type": "markdown",
   "metadata": {},
   "source": [
    "## Python 3 - Tuples"
   ]
  },
  {
   "cell_type": "code",
   "execution_count": 137,
   "metadata": {},
   "outputs": [
    {
     "name": "stdout",
     "output_type": "stream",
     "text": [
      "(12, 34.56, 'abc', 'xyz')\n"
     ]
    }
   ],
   "source": [
    "'''\n",
    "A tuple is a sequence of immutable Python objects.\n",
    "\n",
    "Me: I remember we can use tuples as the parameters for function. I see and also use it \n",
    "many times before. So let see what news I can find here.\n",
    "I remember in SML or racket etcs function programming language, most of time we use \n",
    "immutable types. It has many benefits. At least, it is easy to write bug free codes.\n",
    "'''\n",
    "tup1 = (12, 34.56)\n",
    "tup2 = ('abc', 'xyz')\n",
    "# Operator overloading again. very intuitive.\n",
    "tup3 = tup1 + tup2\n",
    "print (tup3)\n",
    "\n",
    "'''\n",
    "Me: tuple also has many methods. It is very similiar with the list. So I not list them here.\n",
    "'''"
   ]
  },
  {
   "cell_type": "markdown",
   "metadata": {},
   "source": [
    "## Python 3 - Dictionary"
   ]
  },
  {
   "cell_type": "code",
   "execution_count": 1,
   "metadata": {},
   "outputs": [
    {
     "name": "stdout",
     "output_type": "stream",
     "text": [
      "0\n",
      "Equivalent String : {'Name': 'Manni', 'Age': 7, 'Class': 'First'}\n",
      "New Dictionary :  {'Name': 'Manni', 'Age': 7, 'Class': 'First', 'hobby': ['swim', 'music']}\n",
      "New Dictionary :  {'Name': 'Manni', 'Age': 7, 'Class': 'First', 'hobby': [['reading'], 'music']}\n"
     ]
    }
   ],
   "source": [
    "'''\n",
    "Me: Python3 dictionary should be one of the most useful collections. It is accept key value pair\n",
    "I think it like java's hashmap and C++'s unordered_map.\n",
    "'''\n",
    "\n",
    "'''\n",
    "From code below we can see clear() and del are totally differnt.\n",
    "'''\n",
    "dict = {'Name': 'Zara', 'Age': 7, 'Class': 'First'}\n",
    "del dict['Name'] # remove entry with key 'Name'\n",
    "dict.clear()     # remove all entries in dict\n",
    "print(len(dict))\n",
    "del dict         # delete entire dictionary\n",
    "#print(len(dict)) #error\n",
    "\n",
    "'''\n",
    "Me: actually i would say all these exmaple are not so good since they use the class name as \n",
    "the name of variable. This is bad.\n",
    "Me: code below shows if the dictionary is small we can use str() to print the dictionary out.\n",
    "And it also implies that the dict class has write __repr__(self) or __str__(self) functions.\n",
    "'''\n",
    "dict = {'Name': 'Manni', 'Age': 7, 'Class': 'First'}\n",
    "print (\"Equivalent String : %s\" % str (dict))\n",
    "\n",
    "\n",
    "'''\n",
    "Me: need to be very carefully, copy() method is shallow copy. see the result below.\n",
    "'''\n",
    "dict1 = {'Name': 'Manni', 'Age': 7, 'Class': 'First', 'hobby': ['swim', 'music']}\n",
    "dict2 = dict1.copy()\n",
    "print (\"New Dictionary : \",dict2)\n",
    "dict2['hobby'][0] = ['reading']\n",
    "print (\"New Dictionary : \",dict1)"
   ]
  },
  {
   "cell_type": "markdown",
   "metadata": {},
   "source": [
    "## Python3 function"
   ]
  },
  {
   "cell_type": "code",
   "execution_count": 27,
   "metadata": {},
   "outputs": [
    {
     "name": "stdout",
     "output_type": "stream",
     "text": [
      "Name:  miki\n",
      "Age  50\n",
      "\n",
      "Name:  miki\n",
      "Age  50\n",
      "Name:  miki\n",
      "Age  35\n"
     ]
    }
   ],
   "source": [
    "#Me: Use it carefully can make code more readable. And see it change the arguments' order.\n",
    "# Function definition is here\n",
    "def printinfo( name, age ):\n",
    "    \"This prints a passed info into this function\"\n",
    "    print (\"Name: \", name)\n",
    "    print (\"Age \", age)\n",
    "    return\n",
    "\n",
    "# Now you can call printinfo function\n",
    "printinfo( age = 50, name = \"miki\" )\n",
    "print()\n",
    "def printinfo( name, age = 35 ):\n",
    "    \"This prints a passed info into this function\"\n",
    "    print (\"Name: \", name)\n",
    "    print (\"Age \", age)\n",
    "    return\n",
    "\n",
    "# Now you can call printinfo function\n",
    "printinfo( age = 50, name = \"miki\" )\n",
    "printinfo( name = \"miki\" )"
   ]
  },
  {
   "cell_type": "code",
   "execution_count": null,
   "metadata": {},
   "outputs": [],
   "source": []
  }
 ],
 "metadata": {
  "kernelspec": {
   "display_name": "Python 3",
   "language": "python",
   "name": "python3"
  },
  "language_info": {
   "codemirror_mode": {
    "name": "ipython",
    "version": 3
   },
   "file_extension": ".py",
   "mimetype": "text/x-python",
   "name": "python",
   "nbconvert_exporter": "python",
   "pygments_lexer": "ipython3",
   "version": "3.7.2"
  }
 },
 "nbformat": 4,
 "nbformat_minor": 2
}
